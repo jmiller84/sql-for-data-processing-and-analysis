{
 "cells": [
  {
   "cell_type": "code",
   "execution_count": 1,
   "metadata": {},
   "outputs": [],
   "source": [
    "%load_ext sql"
   ]
  },
  {
   "cell_type": "code",
   "execution_count": 2,
   "metadata": {},
   "outputs": [],
   "source": [
    "%sql postgresql+psycopg://localhost:5432/intro_to_sql_for_analytics"
   ]
  },
  {
   "cell_type": "code",
   "execution_count": 3,
   "metadata": {},
   "outputs": [
    {
     "name": "stdout",
     "output_type": "stream",
     "text": [
      " * postgresql+psycopg://localhost:5432/intro_to_sql_for_analytics\n",
      "12 rows affected.\n"
     ]
    },
    {
     "data": {
      "text/html": [
       "<table>\n",
       "    <thead>\n",
       "        <tr>\n",
       "            <th>id</th>\n",
       "            <th>title</th>\n",
       "            <th>release_year</th>\n",
       "            <th>artist_id</th>\n",
       "        </tr>\n",
       "    </thead>\n",
       "    <tbody>\n",
       "        <tr>\n",
       "            <td>1</td>\n",
       "            <td>Doolittle</td>\n",
       "            <td>1989</td>\n",
       "            <td>1</td>\n",
       "        </tr>\n",
       "        <tr>\n",
       "            <td>2</td>\n",
       "            <td>Surfer Rosa</td>\n",
       "            <td>1988</td>\n",
       "            <td>1</td>\n",
       "        </tr>\n",
       "        <tr>\n",
       "            <td>3</td>\n",
       "            <td>Waterloo</td>\n",
       "            <td>1974</td>\n",
       "            <td>2</td>\n",
       "        </tr>\n",
       "        <tr>\n",
       "            <td>4</td>\n",
       "            <td>Super Trouper</td>\n",
       "            <td>1980</td>\n",
       "            <td>2</td>\n",
       "        </tr>\n",
       "        <tr>\n",
       "            <td>5</td>\n",
       "            <td>Bossanova</td>\n",
       "            <td>1990</td>\n",
       "            <td>1</td>\n",
       "        </tr>\n",
       "        <tr>\n",
       "            <td>6</td>\n",
       "            <td>Lover</td>\n",
       "            <td>2019</td>\n",
       "            <td>3</td>\n",
       "        </tr>\n",
       "        <tr>\n",
       "            <td>7</td>\n",
       "            <td>Folklore</td>\n",
       "            <td>2020</td>\n",
       "            <td>3</td>\n",
       "        </tr>\n",
       "        <tr>\n",
       "            <td>8</td>\n",
       "            <td>I Put a Spell on You</td>\n",
       "            <td>1965</td>\n",
       "            <td>4</td>\n",
       "        </tr>\n",
       "        <tr>\n",
       "            <td>9</td>\n",
       "            <td>Baltimore</td>\n",
       "            <td>1978</td>\n",
       "            <td>4</td>\n",
       "        </tr>\n",
       "        <tr>\n",
       "            <td>10</td>\n",
       "            <td>Here Comes the Sun</td>\n",
       "            <td>1971</td>\n",
       "            <td>4</td>\n",
       "        </tr>\n",
       "        <tr>\n",
       "            <td>11</td>\n",
       "            <td>Fodder on My Wings</td>\n",
       "            <td>1982</td>\n",
       "            <td>4</td>\n",
       "        </tr>\n",
       "        <tr>\n",
       "            <td>12</td>\n",
       "            <td>Ring Ring</td>\n",
       "            <td>1973</td>\n",
       "            <td>2</td>\n",
       "        </tr>\n",
       "    </tbody>\n",
       "</table>"
      ],
      "text/plain": [
       "[(1, 'Doolittle', 1989, 1),\n",
       " (2, 'Surfer Rosa', 1988, 1),\n",
       " (3, 'Waterloo', 1974, 2),\n",
       " (4, 'Super Trouper', 1980, 2),\n",
       " (5, 'Bossanova', 1990, 1),\n",
       " (6, 'Lover', 2019, 3),\n",
       " (7, 'Folklore', 2020, 3),\n",
       " (8, 'I Put a Spell on You', 1965, 4),\n",
       " (9, 'Baltimore', 1978, 4),\n",
       " (10, 'Here Comes the Sun', 1971, 4),\n",
       " (11, 'Fodder on My Wings', 1982, 4),\n",
       " (12, 'Ring Ring', 1973, 2)]"
      ]
     },
     "execution_count": 3,
     "metadata": {},
     "output_type": "execute_result"
    }
   ],
   "source": [
    "%sql SELECT * FROM albums"
   ]
  },
  {
   "cell_type": "code",
   "execution_count": 4,
   "metadata": {},
   "outputs": [
    {
     "name": "stdout",
     "output_type": "stream",
     "text": [
      " * postgresql+psycopg://localhost:5432/intro_to_sql_for_analytics\n",
      "12 rows affected.\n"
     ]
    },
    {
     "data": {
      "text/html": [
       "<table>\n",
       "    <thead>\n",
       "        <tr>\n",
       "            <th>id</th>\n",
       "            <th>title</th>\n",
       "        </tr>\n",
       "    </thead>\n",
       "    <tbody>\n",
       "        <tr>\n",
       "            <td>1</td>\n",
       "            <td>Doolittle</td>\n",
       "        </tr>\n",
       "        <tr>\n",
       "            <td>2</td>\n",
       "            <td>Surfer Rosa</td>\n",
       "        </tr>\n",
       "        <tr>\n",
       "            <td>3</td>\n",
       "            <td>Waterloo</td>\n",
       "        </tr>\n",
       "        <tr>\n",
       "            <td>4</td>\n",
       "            <td>Super Trouper</td>\n",
       "        </tr>\n",
       "        <tr>\n",
       "            <td>5</td>\n",
       "            <td>Bossanova</td>\n",
       "        </tr>\n",
       "        <tr>\n",
       "            <td>6</td>\n",
       "            <td>Lover</td>\n",
       "        </tr>\n",
       "        <tr>\n",
       "            <td>7</td>\n",
       "            <td>Folklore</td>\n",
       "        </tr>\n",
       "        <tr>\n",
       "            <td>8</td>\n",
       "            <td>I Put a Spell on You</td>\n",
       "        </tr>\n",
       "        <tr>\n",
       "            <td>9</td>\n",
       "            <td>Baltimore</td>\n",
       "        </tr>\n",
       "        <tr>\n",
       "            <td>10</td>\n",
       "            <td>Here Comes the Sun</td>\n",
       "        </tr>\n",
       "        <tr>\n",
       "            <td>11</td>\n",
       "            <td>Fodder on My Wings</td>\n",
       "        </tr>\n",
       "        <tr>\n",
       "            <td>12</td>\n",
       "            <td>Ring Ring</td>\n",
       "        </tr>\n",
       "    </tbody>\n",
       "</table>"
      ],
      "text/plain": [
       "[(1, 'Doolittle'),\n",
       " (2, 'Surfer Rosa'),\n",
       " (3, 'Waterloo'),\n",
       " (4, 'Super Trouper'),\n",
       " (5, 'Bossanova'),\n",
       " (6, 'Lover'),\n",
       " (7, 'Folklore'),\n",
       " (8, 'I Put a Spell on You'),\n",
       " (9, 'Baltimore'),\n",
       " (10, 'Here Comes the Sun'),\n",
       " (11, 'Fodder on My Wings'),\n",
       " (12, 'Ring Ring')]"
      ]
     },
     "execution_count": 4,
     "metadata": {},
     "output_type": "execute_result"
    }
   ],
   "source": [
    "%sql SELECT id, title FROM albums;"
   ]
  },
  {
   "cell_type": "code",
   "execution_count": 9,
   "metadata": {},
   "outputs": [
    {
     "name": "stdout",
     "output_type": "stream",
     "text": [
      " * postgresql+psycopg://localhost:5432/intro_to_sql_for_analytics\n",
      "1 rows affected.\n",
      "1 rows affected.\n",
      "2 rows affected.\n",
      "1 rows affected.\n"
     ]
    },
    {
     "data": {
      "text/html": [
       "<table>\n",
       "    <thead>\n",
       "        <tr>\n",
       "            <th>id</th>\n",
       "            <th>title</th>\n",
       "            <th>release_year</th>\n",
       "            <th>artist_id</th>\n",
       "        </tr>\n",
       "    </thead>\n",
       "    <tbody>\n",
       "        <tr>\n",
       "            <td>5</td>\n",
       "            <td>Bossanova</td>\n",
       "            <td>1990</td>\n",
       "            <td>1</td>\n",
       "        </tr>\n",
       "    </tbody>\n",
       "</table>"
      ],
      "text/plain": [
       "[(5, 'Bossanova', 1990, 1)]"
      ]
     },
     "execution_count": 9,
     "metadata": {},
     "output_type": "execute_result"
    }
   ],
   "source": [
    "%%sql \n",
    "\n",
    "-- From albums,\n",
    "-- filter where id is '2',\n",
    "-- and select only values for the columns id, title and release_year.\n",
    "SELECT id, title, release_year\n",
    "  FROM albums\n",
    "  WHERE id = 2;\n",
    "\n",
    "-- From albums,\n",
    "-- filter where title is 'Doolittle',\n",
    "-- and select only values for the columns id, title and release_year.\n",
    "\n",
    "-- Make sure to always use single quotes ('')\n",
    "-- to delimitate strings in conditions.\n",
    "SELECT id, title, release_year\n",
    "  FROM albums\n",
    "  WHERE title = 'Doolittle';\n",
    "\n",
    "-- We can use =, <, <=, >, >=\n",
    "-- to compare values.\n",
    "\n",
    "-- From albums,\n",
    "-- filter where release_year is greater than 1990,\n",
    "-- and select only values for the columns id, title and release_year.\n",
    "SELECT id, title, release_year\n",
    "  FROM albums\n",
    "  WHERE release_year > 1990;\n",
    "\n",
    "-- We can use the keywords AND and OR\n",
    "-- to combine conditions.\n",
    "\n",
    "-- From albums,\n",
    "-- filter where release_year is greater than 1990 AND artist_is is '1',\n",
    "-- and select only values for the columns id, title, release_year and artist_id.\n",
    "SELECT id, title, release_year, artist_id\n",
    "  FROM albums\n",
    "  WHERE release_year > 1989 AND artist_id = 1;\n",
    "\n"
   ]
  },
  {
   "cell_type": "code",
   "execution_count": 10,
   "metadata": {},
   "outputs": [
    {
     "name": "stdout",
     "output_type": "stream",
     "text": [
      " * postgresql+psycopg://localhost:5432/intro_to_sql_for_analytics\n",
      "12 rows affected.\n"
     ]
    },
    {
     "data": {
      "text/html": [
       "<table>\n",
       "    <thead>\n",
       "        <tr>\n",
       "            <th>release_year</th>\n",
       "        </tr>\n",
       "    </thead>\n",
       "    <tbody>\n",
       "        <tr>\n",
       "            <td>1989</td>\n",
       "        </tr>\n",
       "        <tr>\n",
       "            <td>1988</td>\n",
       "        </tr>\n",
       "        <tr>\n",
       "            <td>1974</td>\n",
       "        </tr>\n",
       "        <tr>\n",
       "            <td>1980</td>\n",
       "        </tr>\n",
       "        <tr>\n",
       "            <td>1990</td>\n",
       "        </tr>\n",
       "        <tr>\n",
       "            <td>2019</td>\n",
       "        </tr>\n",
       "        <tr>\n",
       "            <td>2020</td>\n",
       "        </tr>\n",
       "        <tr>\n",
       "            <td>1965</td>\n",
       "        </tr>\n",
       "        <tr>\n",
       "            <td>1978</td>\n",
       "        </tr>\n",
       "        <tr>\n",
       "            <td>1971</td>\n",
       "        </tr>\n",
       "        <tr>\n",
       "            <td>1982</td>\n",
       "        </tr>\n",
       "        <tr>\n",
       "            <td>1973</td>\n",
       "        </tr>\n",
       "    </tbody>\n",
       "</table>"
      ],
      "text/plain": [
       "[(1989,),\n",
       " (1988,),\n",
       " (1974,),\n",
       " (1980,),\n",
       " (1990,),\n",
       " (2019,),\n",
       " (2020,),\n",
       " (1965,),\n",
       " (1978,),\n",
       " (1971,),\n",
       " (1982,),\n",
       " (1973,)]"
      ]
     },
     "execution_count": 10,
     "metadata": {},
     "output_type": "execute_result"
    }
   ],
   "source": [
    "%%sql\n",
    "\n",
    "SELECT release_year FROM albums;"
   ]
  },
  {
   "cell_type": "code",
   "execution_count": 11,
   "metadata": {},
   "outputs": [
    {
     "name": "stdout",
     "output_type": "stream",
     "text": [
      " * postgresql+psycopg://localhost:5432/intro_to_sql_for_analytics\n",
      "1 rows affected.\n"
     ]
    },
    {
     "data": {
      "text/html": [
       "<table>\n",
       "    <thead>\n",
       "        <tr>\n",
       "            <th>release_year</th>\n",
       "        </tr>\n",
       "    </thead>\n",
       "    <tbody>\n",
       "        <tr>\n",
       "            <td>1990</td>\n",
       "        </tr>\n",
       "    </tbody>\n",
       "</table>"
      ],
      "text/plain": [
       "[(1990,)]"
      ]
     },
     "execution_count": 11,
     "metadata": {},
     "output_type": "execute_result"
    }
   ],
   "source": [
    "%%sql\n",
    "\n",
    "SELECT release_year\n",
    "FROM albums\n",
    "WHERE title='Bossanova'"
   ]
  },
  {
   "cell_type": "code",
   "execution_count": 20,
   "metadata": {},
   "outputs": [
    {
     "name": "stdout",
     "output_type": "stream",
     "text": [
      " * postgresql+psycopg://localhost:5432/intro_to_sql_for_analytics\n",
      "3 rows affected.\n"
     ]
    },
    {
     "data": {
      "text/html": [
       "<table>\n",
       "    <thead>\n",
       "        <tr>\n",
       "            <th>title</th>\n",
       "        </tr>\n",
       "    </thead>\n",
       "    <tbody>\n",
       "        <tr>\n",
       "            <td>Doolittle</td>\n",
       "        </tr>\n",
       "        <tr>\n",
       "            <td>Surfer Rosa</td>\n",
       "        </tr>\n",
       "        <tr>\n",
       "            <td>Bossanova</td>\n",
       "        </tr>\n",
       "    </tbody>\n",
       "</table>"
      ],
      "text/plain": [
       "[('Doolittle',), ('Surfer Rosa',), ('Bossanova',)]"
      ]
     },
     "execution_count": 20,
     "metadata": {},
     "output_type": "execute_result"
    }
   ],
   "source": [
    "%%sql\n",
    "\n",
    "SELECT title\n",
    "FROM albums\n",
    "JOIN artists\n",
    "ON albums.artist_id = artists.id\n",
    "WHERE artists.name = 'Pixies'"
   ]
  },
  {
   "cell_type": "code",
   "execution_count": null,
   "metadata": {},
   "outputs": [],
   "source": []
  }
 ],
 "metadata": {
  "kernelspec": {
   "display_name": "sql-for-data-venv",
   "language": "python",
   "name": "python3"
  },
  "language_info": {
   "codemirror_mode": {
    "name": "ipython",
    "version": 3
   },
   "file_extension": ".py",
   "mimetype": "text/x-python",
   "name": "python",
   "nbconvert_exporter": "python",
   "pygments_lexer": "ipython3",
   "version": "3.11.4"
  }
 },
 "nbformat": 4,
 "nbformat_minor": 2
}
