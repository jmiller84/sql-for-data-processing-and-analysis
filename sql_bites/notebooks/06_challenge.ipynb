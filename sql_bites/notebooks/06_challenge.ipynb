{
 "cells": [
  {
   "cell_type": "code",
   "execution_count": 1,
   "metadata": {},
   "outputs": [],
   "source": [
    "%load_ext sql"
   ]
  },
  {
   "cell_type": "code",
   "execution_count": 2,
   "metadata": {},
   "outputs": [],
   "source": [
    "%sql postgresql+psycopg://localhost:5432/intro_to_sql_for_analytics"
   ]
  },
  {
   "cell_type": "code",
   "execution_count": 4,
   "metadata": {},
   "outputs": [
    {
     "name": "stdout",
     "output_type": "stream",
     "text": [
      " * postgresql+psycopg://localhost:5432/intro_to_sql_for_analytics\n",
      "2 rows affected.\n"
     ]
    },
    {
     "data": {
      "text/html": [
       "<table>\n",
       "    <thead>\n",
       "        <tr>\n",
       "            <th>index</th>\n",
       "            <th>year</th>\n",
       "            <th>year_rank</th>\n",
       "            <th>group_name</th>\n",
       "            <th>artist</th>\n",
       "            <th>song_name</th>\n",
       "            <th>id</th>\n",
       "        </tr>\n",
       "    </thead>\n",
       "    <tbody>\n",
       "        <tr>\n",
       "            <td>2446</td>\n",
       "            <td>1980</td>\n",
       "            <td>6</td>\n",
       "            <td>Queen</td>\n",
       "            <td>Queen</td>\n",
       "            <td>Crazy Little Thing Called Love</td>\n",
       "            <td>2447.0</td>\n",
       "        </tr>\n",
       "        <tr>\n",
       "            <td>2615</td>\n",
       "            <td>1981</td>\n",
       "            <td>65</td>\n",
       "            <td>Queen</td>\n",
       "            <td>Queen</td>\n",
       "            <td>Another One Bites The Dust</td>\n",
       "            <td>2616.0</td>\n",
       "        </tr>\n",
       "    </tbody>\n",
       "</table>"
      ],
      "text/plain": [
       "[(2446, 1980, 6, 'Queen', 'Queen', 'Crazy Little Thing Called Love', 2447.0),\n",
       " (2615, 1981, 65, 'Queen', 'Queen', 'Another One Bites The Dust', 2616.0)]"
      ]
     },
     "execution_count": 4,
     "metadata": {},
     "output_type": "execute_result"
    }
   ],
   "source": [
    "%%sql\n",
    "\n",
    "SELECT *\n",
    "FROM billboard_top_100_year_end\n",
    "WHERE artist = 'Queen'\n",
    "AND year >= 1980\n",
    "AND year < 1990;"
   ]
  },
  {
   "cell_type": "code",
   "execution_count": 9,
   "metadata": {},
   "outputs": [
    {
     "name": "stdout",
     "output_type": "stream",
     "text": [
      " * postgresql+psycopg://localhost:5432/intro_to_sql_for_analytics\n",
      "9 rows affected.\n"
     ]
    },
    {
     "data": {
      "text/html": [
       "<table>\n",
       "    <thead>\n",
       "        <tr>\n",
       "            <th>index</th>\n",
       "            <th>year</th>\n",
       "            <th>year_rank</th>\n",
       "            <th>group_name</th>\n",
       "            <th>artist</th>\n",
       "            <th>song_name</th>\n",
       "            <th>id</th>\n",
       "        </tr>\n",
       "    </thead>\n",
       "    <tbody>\n",
       "        <tr>\n",
       "            <td>3309</td>\n",
       "            <td>1988</td>\n",
       "            <td>20</td>\n",
       "            <td>Taylor Dayne</td>\n",
       "            <td>Taylor Dayne</td>\n",
       "            <td>I&#x27;ll Always Love You</td>\n",
       "            <td>3310.0</td>\n",
       "        </tr>\n",
       "        <tr>\n",
       "            <td>3343</td>\n",
       "            <td>1988</td>\n",
       "            <td>53</td>\n",
       "            <td>Taylor Dayne</td>\n",
       "            <td>Taylor Dayne</td>\n",
       "            <td>Tell It To My Heart</td>\n",
       "            <td>3344.0</td>\n",
       "        </tr>\n",
       "        <tr>\n",
       "            <td>3394</td>\n",
       "            <td>1988</td>\n",
       "            <td>100</td>\n",
       "            <td>Taylor Dayne</td>\n",
       "            <td>Taylor Dayne</td>\n",
       "            <td>Prove Your Love</td>\n",
       "            <td>3395.0</td>\n",
       "        </tr>\n",
       "        <tr>\n",
       "            <td>3432</td>\n",
       "            <td>1989</td>\n",
       "            <td>38</td>\n",
       "            <td>Taylor Dayne</td>\n",
       "            <td>Taylor Dayne</td>\n",
       "            <td>Don&#x27;t Rush Me</td>\n",
       "            <td>3433.0</td>\n",
       "        </tr>\n",
       "        <tr>\n",
       "            <td>3526</td>\n",
       "            <td>1990</td>\n",
       "            <td>28</td>\n",
       "            <td>Taylor Dayne</td>\n",
       "            <td>Taylor Dayne</td>\n",
       "            <td>Love Will Lead You Back</td>\n",
       "            <td>3527.0</td>\n",
       "        </tr>\n",
       "        <tr>\n",
       "            <td>3546</td>\n",
       "            <td>1990</td>\n",
       "            <td>48</td>\n",
       "            <td>Taylor Dayne</td>\n",
       "            <td>Taylor Dayne</td>\n",
       "            <td>With Every Beat Of My Heart</td>\n",
       "            <td>3547.0</td>\n",
       "        </tr>\n",
       "        <tr>\n",
       "            <td>3561</td>\n",
       "            <td>1990</td>\n",
       "            <td>63</td>\n",
       "            <td>Taylor Dayne</td>\n",
       "            <td>Taylor Dayne</td>\n",
       "            <td>I&#x27;ll Be Your Shelter</td>\n",
       "            <td>3562.0</td>\n",
       "        </tr>\n",
       "        <tr>\n",
       "            <td>3905</td>\n",
       "            <td>1993</td>\n",
       "            <td>99</td>\n",
       "            <td>Taylor Dayne</td>\n",
       "            <td>Taylor Dayne</td>\n",
       "            <td>Can&#x27;t Get Enough Of Your Love</td>\n",
       "            <td>3906.0</td>\n",
       "        </tr>\n",
       "        <tr>\n",
       "            <td>5492</td>\n",
       "            <td>2006</td>\n",
       "            <td>99</td>\n",
       "            <td>Taylor Hicks</td>\n",
       "            <td>Taylor Hicks</td>\n",
       "            <td>Do I Make you Proud</td>\n",
       "            <td>5493.0</td>\n",
       "        </tr>\n",
       "    </tbody>\n",
       "</table>"
      ],
      "text/plain": [
       "[(3309, 1988, 20, 'Taylor Dayne', 'Taylor Dayne', \"I'll Always Love You\", 3310.0),\n",
       " (3343, 1988, 53, 'Taylor Dayne', 'Taylor Dayne', 'Tell It To My Heart', 3344.0),\n",
       " (3394, 1988, 100, 'Taylor Dayne', 'Taylor Dayne', 'Prove Your Love', 3395.0),\n",
       " (3432, 1989, 38, 'Taylor Dayne', 'Taylor Dayne', \"Don't Rush Me\", 3433.0),\n",
       " (3526, 1990, 28, 'Taylor Dayne', 'Taylor Dayne', 'Love Will Lead You Back', 3527.0),\n",
       " (3546, 1990, 48, 'Taylor Dayne', 'Taylor Dayne', 'With Every Beat Of My Heart', 3547.0),\n",
       " (3561, 1990, 63, 'Taylor Dayne', 'Taylor Dayne', \"I'll Be Your Shelter\", 3562.0),\n",
       " (3905, 1993, 99, 'Taylor Dayne', 'Taylor Dayne', \"Can't Get Enough Of Your Love\", 3906.0),\n",
       " (5492, 2006, 99, 'Taylor Hicks', 'Taylor Hicks', 'Do I Make you Proud', 5493.0)]"
      ]
     },
     "execution_count": 9,
     "metadata": {},
     "output_type": "execute_result"
    }
   ],
   "source": [
    "%%sql\n",
    "\n",
    "SELECT *\n",
    "FROM billboard_top_100_year_end\n",
    "WHERE artist LIKE 'Taylor%'\n",
    "AND artist != 'Taylor Swift';"
   ]
  },
  {
   "cell_type": "markdown",
   "metadata": {},
   "source": [
    "### Challenge"
   ]
  },
  {
   "cell_type": "code",
   "execution_count": 17,
   "metadata": {},
   "outputs": [
    {
     "name": "stdout",
     "output_type": "stream",
     "text": [
      " * postgresql+psycopg://localhost:5432/intro_to_sql_for_analytics\n",
      "5 rows affected.\n"
     ]
    },
    {
     "data": {
      "text/html": [
       "<table>\n",
       "    <thead>\n",
       "        <tr>\n",
       "            <th>index</th>\n",
       "            <th>year</th>\n",
       "            <th>year_rank</th>\n",
       "            <th>group_name</th>\n",
       "            <th>artist</th>\n",
       "            <th>song_name</th>\n",
       "            <th>id</th>\n",
       "        </tr>\n",
       "    </thead>\n",
       "    <tbody>\n",
       "        <tr>\n",
       "            <td>5611</td>\n",
       "            <td>2007</td>\n",
       "            <td>85</td>\n",
       "            <td>Rihanna and Sean Paul</td>\n",
       "            <td>Rihanna</td>\n",
       "            <td>Break It Off</td>\n",
       "            <td>5612.0</td>\n",
       "        </tr>\n",
       "        <tr>\n",
       "            <td>5718</td>\n",
       "            <td>2008</td>\n",
       "            <td>62</td>\n",
       "            <td>Rihanna feat. Ne-Yo</td>\n",
       "            <td>Rihanna</td>\n",
       "            <td>Hate That I Love You</td>\n",
       "            <td>5719.0</td>\n",
       "        </tr>\n",
       "        <tr>\n",
       "            <td>6157</td>\n",
       "            <td>2011</td>\n",
       "            <td>69</td>\n",
       "            <td>Rihanna feat. Calvin Harris</td>\n",
       "            <td>Rihanna</td>\n",
       "            <td>We Found Love</td>\n",
       "            <td>6158.0</td>\n",
       "        </tr>\n",
       "        <tr>\n",
       "            <td>6307</td>\n",
       "            <td>2012</td>\n",
       "            <td>79</td>\n",
       "            <td>Rihanna feat. Chris Brown</td>\n",
       "            <td>Rihanna</td>\n",
       "            <td>Birthday Cake</td>\n",
       "            <td>6308.0</td>\n",
       "        </tr>\n",
       "        <tr>\n",
       "            <td>6425</td>\n",
       "            <td>2013</td>\n",
       "            <td>59</td>\n",
       "            <td>Wale feat. Tiara Thomas or Rihanna</td>\n",
       "            <td>Rihanna</td>\n",
       "            <td>Bad</td>\n",
       "            <td>6426.0</td>\n",
       "        </tr>\n",
       "    </tbody>\n",
       "</table>"
      ],
      "text/plain": [
       "[(5611, 2007, 85, 'Rihanna and Sean Paul', 'Rihanna', 'Break It Off', 5612.0),\n",
       " (5718, 2008, 62, 'Rihanna feat. Ne-Yo', 'Rihanna', 'Hate That I Love You', 5719.0),\n",
       " (6157, 2011, 69, 'Rihanna feat. Calvin Harris', 'Rihanna', 'We Found Love', 6158.0),\n",
       " (6307, 2012, 79, 'Rihanna feat. Chris Brown', 'Rihanna', 'Birthday Cake', 6308.0),\n",
       " (6425, 2013, 59, 'Wale feat. Tiara Thomas or Rihanna', 'Rihanna', 'Bad', 6426.0)]"
      ]
     },
     "execution_count": 17,
     "metadata": {},
     "output_type": "execute_result"
    }
   ],
   "source": [
    "%%sql\n",
    "\n",
    "SELECT *\n",
    "FROM billboard_top_100_year_end\n",
    "WHERE artist = 'Rihanna'\n",
    "AND group_name LIKE '%Rihanna%'\n",
    "AND group_name != 'Rihanna'\n",
    "AND year_rank > 50;"
   ]
  },
  {
   "cell_type": "code",
   "execution_count": null,
   "metadata": {},
   "outputs": [],
   "source": []
  }
 ],
 "metadata": {
  "kernelspec": {
   "display_name": "sql-for-data-venv",
   "language": "python",
   "name": "python3"
  },
  "language_info": {
   "codemirror_mode": {
    "name": "ipython",
    "version": 3
   },
   "file_extension": ".py",
   "mimetype": "text/x-python",
   "name": "python",
   "nbconvert_exporter": "python",
   "pygments_lexer": "ipython3",
   "version": "3.11.4"
  }
 },
 "nbformat": 4,
 "nbformat_minor": 2
}
