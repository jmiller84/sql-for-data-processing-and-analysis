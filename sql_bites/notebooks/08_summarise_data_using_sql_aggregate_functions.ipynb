{
 "cells": [
  {
   "cell_type": "code",
   "execution_count": 1,
   "metadata": {},
   "outputs": [],
   "source": [
    "%load_ext sql"
   ]
  },
  {
   "cell_type": "code",
   "execution_count": 2,
   "metadata": {},
   "outputs": [],
   "source": [
    "%sql postgresql+psycopg://localhost:5432/intro_to_sql_for_analytics"
   ]
  },
  {
   "cell_type": "markdown",
   "metadata": {},
   "source": [
    "### COUNT"
   ]
  },
  {
   "cell_type": "markdown",
   "metadata": {},
   "source": [
    "Count how many rows in our data set"
   ]
  },
  {
   "cell_type": "code",
   "execution_count": 5,
   "metadata": {},
   "outputs": [
    {
     "name": "stdout",
     "output_type": "stream",
     "text": [
      " * postgresql+psycopg://localhost:5432/intro_to_sql_for_analytics\n",
      "1 rows affected.\n"
     ]
    },
    {
     "data": {
      "text/html": [
       "<table>\n",
       "    <thead>\n",
       "        <tr>\n",
       "            <th>count</th>\n",
       "        </tr>\n",
       "    </thead>\n",
       "    <tbody>\n",
       "        <tr>\n",
       "            <td>1757</td>\n",
       "        </tr>\n",
       "    </tbody>\n",
       "</table>"
      ],
      "text/plain": [
       "[(1757,)]"
      ]
     },
     "execution_count": 5,
     "metadata": {},
     "output_type": "execute_result"
    }
   ],
   "source": [
    "%%sql\n",
    "\n",
    "SELECT COUNT(*)\n",
    "FROM us_pumpkin_prices;"
   ]
  },
  {
   "cell_type": "markdown",
   "metadata": {},
   "source": [
    "Count how many rows in a particular column\n",
    "\n",
    "Note this is less than in the dataset due to null values"
   ]
  },
  {
   "cell_type": "code",
   "execution_count": 6,
   "metadata": {},
   "outputs": [
    {
     "name": "stdout",
     "output_type": "stream",
     "text": [
      " * postgresql+psycopg://localhost:5432/intro_to_sql_for_analytics\n",
      "1 rows affected.\n"
     ]
    },
    {
     "data": {
      "text/html": [
       "<table>\n",
       "    <thead>\n",
       "        <tr>\n",
       "            <th>count</th>\n",
       "        </tr>\n",
       "    </thead>\n",
       "    <tbody>\n",
       "        <tr>\n",
       "            <td>1478</td>\n",
       "        </tr>\n",
       "    </tbody>\n",
       "</table>"
      ],
      "text/plain": [
       "[(1478,)]"
      ]
     },
     "execution_count": 6,
     "metadata": {},
     "output_type": "execute_result"
    }
   ],
   "source": [
    "%%sql\n",
    "\n",
    "SELECT COUNT(\"Item Size\")\n",
    "FROM us_pumpkin_prices;"
   ]
  },
  {
   "cell_type": "markdown",
   "metadata": {},
   "source": [
    "### SUM"
   ]
  },
  {
   "cell_type": "code",
   "execution_count": 8,
   "metadata": {},
   "outputs": [
    {
     "name": "stdout",
     "output_type": "stream",
     "text": [
      " * postgresql+psycopg://localhost:5432/intro_to_sql_for_analytics\n",
      "1 rows affected.\n"
     ]
    },
    {
     "data": {
      "text/html": [
       "<table>\n",
       "    <thead>\n",
       "        <tr>\n",
       "            <th>sum</th>\n",
       "        </tr>\n",
       "    </thead>\n",
       "    <tbody>\n",
       "        <tr>\n",
       "            <td>218871.8399999998</td>\n",
       "        </tr>\n",
       "    </tbody>\n",
       "</table>"
      ],
      "text/plain": [
       "[(218871.8399999998,)]"
      ]
     },
     "execution_count": 8,
     "metadata": {},
     "output_type": "execute_result"
    }
   ],
   "source": [
    "%%sql\n",
    "\n",
    "SELECT SUM(\"Low Price\")\n",
    "FROM us_pumpkin_prices;"
   ]
  },
  {
   "cell_type": "markdown",
   "metadata": {},
   "source": [
    "### MIN/MAX"
   ]
  },
  {
   "cell_type": "code",
   "execution_count": 10,
   "metadata": {},
   "outputs": [
    {
     "name": "stdout",
     "output_type": "stream",
     "text": [
      " * postgresql+psycopg://localhost:5432/intro_to_sql_for_analytics\n",
      "1 rows affected.\n"
     ]
    },
    {
     "data": {
      "text/html": [
       "<table>\n",
       "    <thead>\n",
       "        <tr>\n",
       "            <th>max</th>\n",
       "        </tr>\n",
       "    </thead>\n",
       "    <tbody>\n",
       "        <tr>\n",
       "            <td>480.0</td>\n",
       "        </tr>\n",
       "    </tbody>\n",
       "</table>"
      ],
      "text/plain": [
       "[(480.0,)]"
      ]
     },
     "execution_count": 10,
     "metadata": {},
     "output_type": "execute_result"
    }
   ],
   "source": [
    "%%sql\n",
    "\n",
    "SELECT MAX(\"High Price\") FROM us_pumpkin_prices;"
   ]
  },
  {
   "cell_type": "code",
   "execution_count": 11,
   "metadata": {},
   "outputs": [
    {
     "name": "stdout",
     "output_type": "stream",
     "text": [
      " * postgresql+psycopg://localhost:5432/intro_to_sql_for_analytics\n",
      "1 rows affected.\n"
     ]
    },
    {
     "data": {
      "text/html": [
       "<table>\n",
       "    <thead>\n",
       "        <tr>\n",
       "            <th>min</th>\n",
       "        </tr>\n",
       "    </thead>\n",
       "    <tbody>\n",
       "        <tr>\n",
       "            <td>0.24</td>\n",
       "        </tr>\n",
       "    </tbody>\n",
       "</table>"
      ],
      "text/plain": [
       "[(0.24,)]"
      ]
     },
     "execution_count": 11,
     "metadata": {},
     "output_type": "execute_result"
    }
   ],
   "source": [
    "%%sql\n",
    "\n",
    "SELECT MIN(\"Low Price\") FROM us_pumpkin_prices;"
   ]
  },
  {
   "cell_type": "markdown",
   "metadata": {},
   "source": [
    "### AVG - Average"
   ]
  },
  {
   "cell_type": "code",
   "execution_count": 12,
   "metadata": {},
   "outputs": [
    {
     "name": "stdout",
     "output_type": "stream",
     "text": [
      " * postgresql+psycopg://localhost:5432/intro_to_sql_for_analytics\n",
      "1 rows affected.\n"
     ]
    },
    {
     "data": {
      "text/html": [
       "<table>\n",
       "    <thead>\n",
       "        <tr>\n",
       "            <th>avg</th>\n",
       "        </tr>\n",
       "    </thead>\n",
       "    <tbody>\n",
       "        <tr>\n",
       "            <td>132.97093910073977</td>\n",
       "        </tr>\n",
       "    </tbody>\n",
       "</table>"
      ],
      "text/plain": [
       "[(132.97093910073977,)]"
      ]
     },
     "execution_count": 12,
     "metadata": {},
     "output_type": "execute_result"
    }
   ],
   "source": [
    "%%sql\n",
    "\n",
    "SELECT AVG(\"High Price\") FROM us_pumpkin_prices;"
   ]
  },
  {
   "cell_type": "markdown",
   "metadata": {},
   "source": [
    "### GROUP BY"
   ]
  },
  {
   "cell_type": "code",
   "execution_count": 14,
   "metadata": {},
   "outputs": [
    {
     "name": "stdout",
     "output_type": "stream",
     "text": [
      " * postgresql+psycopg://localhost:5432/intro_to_sql_for_analytics\n",
      "11 rows affected.\n"
     ]
    },
    {
     "data": {
      "text/html": [
       "<table>\n",
       "    <thead>\n",
       "        <tr>\n",
       "            <th>Variety</th>\n",
       "            <th>count</th>\n",
       "        </tr>\n",
       "    </thead>\n",
       "    <tbody>\n",
       "        <tr>\n",
       "            <td>HOWDEN TYPE</td>\n",
       "            <td>542</td>\n",
       "        </tr>\n",
       "        <tr>\n",
       "            <td>BLUE TYPE</td>\n",
       "            <td>19</td>\n",
       "        </tr>\n",
       "        <tr>\n",
       "            <td>BIG MACK TYPE</td>\n",
       "            <td>74</td>\n",
       "        </tr>\n",
       "        <tr>\n",
       "            <td>MIXED HEIRLOOM VARIETIES</td>\n",
       "            <td>57</td>\n",
       "        </tr>\n",
       "        <tr>\n",
       "            <td>None</td>\n",
       "            <td>5</td>\n",
       "        </tr>\n",
       "        <tr>\n",
       "            <td>KNUCKLE HEAD</td>\n",
       "            <td>20</td>\n",
       "        </tr>\n",
       "        <tr>\n",
       "            <td>HOWDEN WHITE TYPE</td>\n",
       "            <td>49</td>\n",
       "        </tr>\n",
       "        <tr>\n",
       "            <td>CINDERELLA</td>\n",
       "            <td>81</td>\n",
       "        </tr>\n",
       "        <tr>\n",
       "            <td>PIE TYPE</td>\n",
       "            <td>468</td>\n",
       "        </tr>\n",
       "        <tr>\n",
       "            <td>MINIATURE</td>\n",
       "            <td>310</td>\n",
       "        </tr>\n",
       "        <tr>\n",
       "            <td>FAIRYTALE</td>\n",
       "            <td>132</td>\n",
       "        </tr>\n",
       "    </tbody>\n",
       "</table>"
      ],
      "text/plain": [
       "[('HOWDEN TYPE', 542),\n",
       " ('BLUE TYPE', 19),\n",
       " ('BIG MACK TYPE', 74),\n",
       " ('MIXED HEIRLOOM VARIETIES', 57),\n",
       " (None, 5),\n",
       " ('KNUCKLE HEAD', 20),\n",
       " ('HOWDEN WHITE TYPE', 49),\n",
       " ('CINDERELLA', 81),\n",
       " ('PIE TYPE', 468),\n",
       " ('MINIATURE', 310),\n",
       " ('FAIRYTALE', 132)]"
      ]
     },
     "execution_count": 14,
     "metadata": {},
     "output_type": "execute_result"
    }
   ],
   "source": [
    "%%sql\n",
    "\n",
    "SELECT \"Variety\", COUNT(*) FROM us_pumpkin_prices GROUP BY \"Variety\";"
   ]
  },
  {
   "cell_type": "markdown",
   "metadata": {},
   "source": [
    "### HAVING\n",
    "\n",
    "The HAVING keyword is a bit like WHERE. However, WHERE can't be used with aggregate functions, so we can use HAVING instead. \n",
    "\n",
    "For example, we can refine the last query above a little further:"
   ]
  },
  {
   "cell_type": "code",
   "execution_count": 15,
   "metadata": {},
   "outputs": [
    {
     "name": "stdout",
     "output_type": "stream",
     "text": [
      " * postgresql+psycopg://localhost:5432/intro_to_sql_for_analytics\n",
      "5 rows affected.\n"
     ]
    },
    {
     "data": {
      "text/html": [
       "<table>\n",
       "    <thead>\n",
       "        <tr>\n",
       "            <th>City Name</th>\n",
       "            <th>Variety</th>\n",
       "            <th>count</th>\n",
       "        </tr>\n",
       "    </thead>\n",
       "    <tbody>\n",
       "        <tr>\n",
       "            <td>BALTIMORE</td>\n",
       "            <td>CINDERELLA</td>\n",
       "            <td>25</td>\n",
       "        </tr>\n",
       "        <tr>\n",
       "            <td>COLUMBIA</td>\n",
       "            <td>MINIATURE</td>\n",
       "            <td>54</td>\n",
       "        </tr>\n",
       "        <tr>\n",
       "            <td>LOS ANGELES</td>\n",
       "            <td>HOWDEN TYPE</td>\n",
       "            <td>21</td>\n",
       "        </tr>\n",
       "        <tr>\n",
       "            <td>SAN FRANCISCO</td>\n",
       "            <td>PIE TYPE</td>\n",
       "            <td>45</td>\n",
       "        </tr>\n",
       "        <tr>\n",
       "            <td>SAN FRANCISCO</td>\n",
       "            <td>HOWDEN TYPE</td>\n",
       "            <td>37</td>\n",
       "        </tr>\n",
       "    </tbody>\n",
       "</table>"
      ],
      "text/plain": [
       "[('BALTIMORE', 'CINDERELLA', 25),\n",
       " ('COLUMBIA', 'MINIATURE', 54),\n",
       " ('LOS ANGELES', 'HOWDEN TYPE', 21),\n",
       " ('SAN FRANCISCO', 'PIE TYPE', 45),\n",
       " ('SAN FRANCISCO', 'HOWDEN TYPE', 37)]"
      ]
     },
     "execution_count": 15,
     "metadata": {},
     "output_type": "execute_result"
    }
   ],
   "source": [
    "%%sql\n",
    "\n",
    "SELECT \"City Name\", \"Variety\", COUNT(*) \n",
    "FROM us_pumpkin_prices \n",
    "GROUP BY \"City Name\", \"Variety\" \n",
    "HAVING MAX(\"High Price\") > 300 \n",
    "ORDER BY \"City Name\" ASC;"
   ]
  },
  {
   "cell_type": "markdown",
   "metadata": {},
   "source": [
    "### Exercise 1"
   ]
  },
  {
   "cell_type": "code",
   "execution_count": 16,
   "metadata": {},
   "outputs": [
    {
     "name": "stdout",
     "output_type": "stream",
     "text": [
      " * postgresql+psycopg://localhost:5432/intro_to_sql_for_analytics\n",
      "5 rows affected.\n"
     ]
    },
    {
     "data": {
      "text/html": [
       "<table>\n",
       "    <thead>\n",
       "        <tr>\n",
       "            <th>index</th>\n",
       "            <th>Commodity Name</th>\n",
       "            <th>City Name</th>\n",
       "            <th>Type</th>\n",
       "            <th>Package</th>\n",
       "            <th>Variety</th>\n",
       "            <th>Sub Variety</th>\n",
       "            <th>Grade</th>\n",
       "            <th>Date</th>\n",
       "            <th>Low Price</th>\n",
       "            <th>High Price</th>\n",
       "            <th>Mostly Low</th>\n",
       "            <th>Mostly High</th>\n",
       "            <th>Origin</th>\n",
       "            <th>Origin District</th>\n",
       "            <th>Item Size</th>\n",
       "            <th>Color</th>\n",
       "            <th>Environment</th>\n",
       "            <th>Unit of Sale</th>\n",
       "            <th>Quality</th>\n",
       "            <th>Condition</th>\n",
       "            <th>Appearance</th>\n",
       "            <th>Storage</th>\n",
       "            <th>Crop</th>\n",
       "            <th>Repack</th>\n",
       "            <th>Trans Mode</th>\n",
       "        </tr>\n",
       "    </thead>\n",
       "    <tbody>\n",
       "        <tr>\n",
       "            <td>0</td>\n",
       "            <td>PUMPKINS</td>\n",
       "            <td>ATLANTA</td>\n",
       "            <td>None</td>\n",
       "            <td>24 inch bins</td>\n",
       "            <td>HOWDEN TYPE</td>\n",
       "            <td>None</td>\n",
       "            <td>None</td>\n",
       "            <td>2016-09-24</td>\n",
       "            <td>140.0</td>\n",
       "            <td>154.75</td>\n",
       "            <td>140.0</td>\n",
       "            <td>154.75</td>\n",
       "            <td>MICHIGAN</td>\n",
       "            <td>None</td>\n",
       "            <td>jbo</td>\n",
       "            <td>None</td>\n",
       "            <td>None</td>\n",
       "            <td>None</td>\n",
       "            <td>None</td>\n",
       "            <td>None</td>\n",
       "            <td>None</td>\n",
       "            <td>None</td>\n",
       "            <td>None</td>\n",
       "            <td>N</td>\n",
       "            <td>None</td>\n",
       "        </tr>\n",
       "        <tr>\n",
       "            <td>1</td>\n",
       "            <td>PUMPKINS</td>\n",
       "            <td>ATLANTA</td>\n",
       "            <td>None</td>\n",
       "            <td>24 inch bins</td>\n",
       "            <td>HOWDEN TYPE</td>\n",
       "            <td>None</td>\n",
       "            <td>None</td>\n",
       "            <td>2016-09-24</td>\n",
       "            <td>145.0</td>\n",
       "            <td>154.75</td>\n",
       "            <td>145.0</td>\n",
       "            <td>154.75</td>\n",
       "            <td>MICHIGAN</td>\n",
       "            <td>None</td>\n",
       "            <td>xlge</td>\n",
       "            <td>None</td>\n",
       "            <td>None</td>\n",
       "            <td>None</td>\n",
       "            <td>None</td>\n",
       "            <td>None</td>\n",
       "            <td>None</td>\n",
       "            <td>None</td>\n",
       "            <td>None</td>\n",
       "            <td>N</td>\n",
       "            <td>None</td>\n",
       "        </tr>\n",
       "        <tr>\n",
       "            <td>2</td>\n",
       "            <td>PUMPKINS</td>\n",
       "            <td>ATLANTA</td>\n",
       "            <td>None</td>\n",
       "            <td>24 inch bins</td>\n",
       "            <td>HOWDEN TYPE</td>\n",
       "            <td>None</td>\n",
       "            <td>None</td>\n",
       "            <td>2016-09-24</td>\n",
       "            <td>150.0</td>\n",
       "            <td>154.75</td>\n",
       "            <td>150.0</td>\n",
       "            <td>154.75</td>\n",
       "            <td>MICHIGAN</td>\n",
       "            <td>None</td>\n",
       "            <td>med-lge</td>\n",
       "            <td>None</td>\n",
       "            <td>None</td>\n",
       "            <td>None</td>\n",
       "            <td>None</td>\n",
       "            <td>None</td>\n",
       "            <td>None</td>\n",
       "            <td>None</td>\n",
       "            <td>None</td>\n",
       "            <td>N</td>\n",
       "            <td>None</td>\n",
       "        </tr>\n",
       "        <tr>\n",
       "            <td>3</td>\n",
       "            <td>PUMPKINS</td>\n",
       "            <td>ATLANTA</td>\n",
       "            <td>None</td>\n",
       "            <td>24 inch bins</td>\n",
       "            <td>HOWDEN TYPE</td>\n",
       "            <td>None</td>\n",
       "            <td>None</td>\n",
       "            <td>2016-09-24</td>\n",
       "            <td>150.0</td>\n",
       "            <td>150.0</td>\n",
       "            <td>150.0</td>\n",
       "            <td>150.0</td>\n",
       "            <td>MICHIGAN</td>\n",
       "            <td>None</td>\n",
       "            <td>sml</td>\n",
       "            <td>None</td>\n",
       "            <td>None</td>\n",
       "            <td>None</td>\n",
       "            <td>None</td>\n",
       "            <td>None</td>\n",
       "            <td>None</td>\n",
       "            <td>None</td>\n",
       "            <td>None</td>\n",
       "            <td>N</td>\n",
       "            <td>None</td>\n",
       "        </tr>\n",
       "        <tr>\n",
       "            <td>4</td>\n",
       "            <td>PUMPKINS</td>\n",
       "            <td>ATLANTA</td>\n",
       "            <td>None</td>\n",
       "            <td>24 inch bins</td>\n",
       "            <td>HOWDEN TYPE</td>\n",
       "            <td>None</td>\n",
       "            <td>None</td>\n",
       "            <td>2016-10-01</td>\n",
       "            <td>140.0</td>\n",
       "            <td>154.75</td>\n",
       "            <td>140.0</td>\n",
       "            <td>154.75</td>\n",
       "            <td>MICHIGAN</td>\n",
       "            <td>None</td>\n",
       "            <td>jbo</td>\n",
       "            <td>None</td>\n",
       "            <td>None</td>\n",
       "            <td>None</td>\n",
       "            <td>None</td>\n",
       "            <td>None</td>\n",
       "            <td>None</td>\n",
       "            <td>None</td>\n",
       "            <td>None</td>\n",
       "            <td>N</td>\n",
       "            <td>None</td>\n",
       "        </tr>\n",
       "    </tbody>\n",
       "</table>"
      ],
      "text/plain": [
       "[(0, 'PUMPKINS', 'ATLANTA', None, '24 inch bins', 'HOWDEN TYPE', None, None, datetime.date(2016, 9, 24), 140.0, 154.75, 140.0, 154.75, 'MICHIGAN', None, 'jbo', None, None, None, None, None, None, None, None, 'N', None),\n",
       " (1, 'PUMPKINS', 'ATLANTA', None, '24 inch bins', 'HOWDEN TYPE', None, None, datetime.date(2016, 9, 24), 145.0, 154.75, 145.0, 154.75, 'MICHIGAN', None, 'xlge', None, None, None, None, None, None, None, None, 'N', None),\n",
       " (2, 'PUMPKINS', 'ATLANTA', None, '24 inch bins', 'HOWDEN TYPE', None, None, datetime.date(2016, 9, 24), 150.0, 154.75, 150.0, 154.75, 'MICHIGAN', None, 'med-lge', None, None, None, None, None, None, None, None, 'N', None),\n",
       " (3, 'PUMPKINS', 'ATLANTA', None, '24 inch bins', 'HOWDEN TYPE', None, None, datetime.date(2016, 9, 24), 150.0, 150.0, 150.0, 150.0, 'MICHIGAN', None, 'sml', None, None, None, None, None, None, None, None, 'N', None),\n",
       " (4, 'PUMPKINS', 'ATLANTA', None, '24 inch bins', 'HOWDEN TYPE', None, None, datetime.date(2016, 10, 1), 140.0, 154.75, 140.0, 154.75, 'MICHIGAN', None, 'jbo', None, None, None, None, None, None, None, None, 'N', None)]"
      ]
     },
     "execution_count": 16,
     "metadata": {},
     "output_type": "execute_result"
    }
   ],
   "source": [
    "%%sql\n",
    "\n",
    "SELECT *\n",
    "FROM us_pumpkin_prices \n",
    "LIMIT 5"
   ]
  },
  {
   "cell_type": "code",
   "execution_count": 18,
   "metadata": {},
   "outputs": [
    {
     "name": "stdout",
     "output_type": "stream",
     "text": [
      " * postgresql+psycopg://localhost:5432/intro_to_sql_for_analytics\n",
      "(psycopg.errors.GroupingError) column \"us_pumpkin_prices.Variety\" must appear in the GROUP BY clause or be used in an aggregate function\n",
      "LINE 1: SELECT \"City Name\", \"Variety\"\n",
      "                            ^\n",
      "[SQL: SELECT \"City Name\", \"Variety\"\n",
      "FROM us_pumpkin_prices \n",
      "GROUP BY \"City Name\" \n",
      "HAVING \"Low Price\" >= 5 \n",
      "ORDER BY \"Variety\" ASC;]\n",
      "(Background on this error at: https://sqlalche.me/e/20/f405)\n"
     ]
    }
   ],
   "source": [
    "%%sql\n",
    "\n",
    "SELECT \"City Name\", \"Variety\"\n",
    "FROM us_pumpkin_prices \n",
    "GROUP BY \"City Name\" \n",
    "HAVING \"Low Price\" >= 5 \n",
    "ORDER BY \"Variety\" ASC;"
   ]
  },
  {
   "cell_type": "code",
   "execution_count": 24,
   "metadata": {},
   "outputs": [
    {
     "name": "stdout",
     "output_type": "stream",
     "text": [
      " * postgresql+psycopg://localhost:5432/intro_to_sql_for_analytics\n",
      "75 rows affected.\n"
     ]
    },
    {
     "data": {
      "text/html": [
       "<table>\n",
       "    <thead>\n",
       "        <tr>\n",
       "            <th>City Name</th>\n",
       "            <th>Variety</th>\n",
       "        </tr>\n",
       "    </thead>\n",
       "    <tbody>\n",
       "        <tr>\n",
       "            <td>NEW YORK</td>\n",
       "            <td>BIG MACK TYPE</td>\n",
       "        </tr>\n",
       "        <tr>\n",
       "            <td>SAN FRANCISCO</td>\n",
       "            <td>BIG MACK TYPE</td>\n",
       "        </tr>\n",
       "        <tr>\n",
       "            <td>DALLAS</td>\n",
       "            <td>BIG MACK TYPE</td>\n",
       "        </tr>\n",
       "        <tr>\n",
       "            <td>BALTIMORE</td>\n",
       "            <td>BIG MACK TYPE</td>\n",
       "        </tr>\n",
       "        <tr>\n",
       "            <td>BOSTON</td>\n",
       "            <td>BIG MACK TYPE</td>\n",
       "        </tr>\n",
       "        <tr>\n",
       "            <td>BOSTON</td>\n",
       "            <td>BLUE TYPE</td>\n",
       "        </tr>\n",
       "        <tr>\n",
       "            <td>SAN FRANCISCO</td>\n",
       "            <td>BLUE TYPE</td>\n",
       "        </tr>\n",
       "        <tr>\n",
       "            <td>COLUMBIA</td>\n",
       "            <td>BLUE TYPE</td>\n",
       "        </tr>\n",
       "        <tr>\n",
       "            <td>DALLAS</td>\n",
       "            <td>CINDERELLA</td>\n",
       "        </tr>\n",
       "        <tr>\n",
       "            <td>BOSTON</td>\n",
       "            <td>CINDERELLA</td>\n",
       "        </tr>\n",
       "        <tr>\n",
       "            <td>BALTIMORE</td>\n",
       "            <td>CINDERELLA</td>\n",
       "        </tr>\n",
       "        <tr>\n",
       "            <td>COLUMBIA</td>\n",
       "            <td>CINDERELLA</td>\n",
       "        </tr>\n",
       "        <tr>\n",
       "            <td>SAN FRANCISCO</td>\n",
       "            <td>CINDERELLA</td>\n",
       "        </tr>\n",
       "        <tr>\n",
       "            <td>COLUMBIA</td>\n",
       "            <td>FAIRYTALE</td>\n",
       "        </tr>\n",
       "        <tr>\n",
       "            <td>CHICAGO</td>\n",
       "            <td>FAIRYTALE</td>\n",
       "        </tr>\n",
       "        <tr>\n",
       "            <td>BOSTON</td>\n",
       "            <td>FAIRYTALE</td>\n",
       "        </tr>\n",
       "        <tr>\n",
       "            <td>BALTIMORE</td>\n",
       "            <td>FAIRYTALE</td>\n",
       "        </tr>\n",
       "        <tr>\n",
       "            <td>DALLAS</td>\n",
       "            <td>FAIRYTALE</td>\n",
       "        </tr>\n",
       "        <tr>\n",
       "            <td>SAN FRANCISCO</td>\n",
       "            <td>FAIRYTALE</td>\n",
       "        </tr>\n",
       "        <tr>\n",
       "            <td>LOS ANGELES</td>\n",
       "            <td>HOWDEN TYPE</td>\n",
       "        </tr>\n",
       "        <tr>\n",
       "            <td>BOSTON</td>\n",
       "            <td>HOWDEN TYPE</td>\n",
       "        </tr>\n",
       "        <tr>\n",
       "            <td>COLUMBIA</td>\n",
       "            <td>HOWDEN TYPE</td>\n",
       "        </tr>\n",
       "        <tr>\n",
       "            <td>MIAMI</td>\n",
       "            <td>HOWDEN TYPE</td>\n",
       "        </tr>\n",
       "        <tr>\n",
       "            <td>SAN FRANCISCO</td>\n",
       "            <td>HOWDEN TYPE</td>\n",
       "        </tr>\n",
       "        <tr>\n",
       "            <td>DALLAS</td>\n",
       "            <td>HOWDEN TYPE</td>\n",
       "        </tr>\n",
       "        <tr>\n",
       "            <td>CHICAGO</td>\n",
       "            <td>HOWDEN TYPE</td>\n",
       "        </tr>\n",
       "        <tr>\n",
       "            <td>ATLANTA</td>\n",
       "            <td>HOWDEN TYPE</td>\n",
       "        </tr>\n",
       "        <tr>\n",
       "            <td>NEW YORK</td>\n",
       "            <td>HOWDEN TYPE</td>\n",
       "        </tr>\n",
       "        <tr>\n",
       "            <td>ST. LOUIS</td>\n",
       "            <td>HOWDEN TYPE</td>\n",
       "        </tr>\n",
       "        <tr>\n",
       "            <td>BALTIMORE</td>\n",
       "            <td>HOWDEN TYPE</td>\n",
       "        </tr>\n",
       "        <tr>\n",
       "            <td>PHILADELPHIA</td>\n",
       "            <td>HOWDEN TYPE</td>\n",
       "        </tr>\n",
       "        <tr>\n",
       "            <td>DETROIT</td>\n",
       "            <td>HOWDEN TYPE</td>\n",
       "        </tr>\n",
       "        <tr>\n",
       "            <td>DALLAS</td>\n",
       "            <td>HOWDEN WHITE TYPE</td>\n",
       "        </tr>\n",
       "        <tr>\n",
       "            <td>BALTIMORE</td>\n",
       "            <td>HOWDEN WHITE TYPE</td>\n",
       "        </tr>\n",
       "        <tr>\n",
       "            <td>ST. LOUIS</td>\n",
       "            <td>HOWDEN WHITE TYPE</td>\n",
       "        </tr>\n",
       "        <tr>\n",
       "            <td>DETROIT</td>\n",
       "            <td>HOWDEN WHITE TYPE</td>\n",
       "        </tr>\n",
       "        <tr>\n",
       "            <td>CHICAGO</td>\n",
       "            <td>HOWDEN WHITE TYPE</td>\n",
       "        </tr>\n",
       "        <tr>\n",
       "            <td>COLUMBIA</td>\n",
       "            <td>HOWDEN WHITE TYPE</td>\n",
       "        </tr>\n",
       "        <tr>\n",
       "            <td>NEW YORK</td>\n",
       "            <td>KNUCKLE HEAD</td>\n",
       "        </tr>\n",
       "        <tr>\n",
       "            <td>BOSTON</td>\n",
       "            <td>KNUCKLE HEAD</td>\n",
       "        </tr>\n",
       "        <tr>\n",
       "            <td>COLUMBIA</td>\n",
       "            <td>KNUCKLE HEAD</td>\n",
       "        </tr>\n",
       "        <tr>\n",
       "            <td>PHILADELPHIA</td>\n",
       "            <td>KNUCKLE HEAD</td>\n",
       "        </tr>\n",
       "        <tr>\n",
       "            <td>SAN FRANCISCO</td>\n",
       "            <td>MINIATURE</td>\n",
       "        </tr>\n",
       "        <tr>\n",
       "            <td>ST. LOUIS</td>\n",
       "            <td>MINIATURE</td>\n",
       "        </tr>\n",
       "        <tr>\n",
       "            <td>PHILADELPHIA</td>\n",
       "            <td>MINIATURE</td>\n",
       "        </tr>\n",
       "        <tr>\n",
       "            <td>NEW YORK</td>\n",
       "            <td>MINIATURE</td>\n",
       "        </tr>\n",
       "        <tr>\n",
       "            <td>LOS ANGELES</td>\n",
       "            <td>MINIATURE</td>\n",
       "        </tr>\n",
       "        <tr>\n",
       "            <td>BOSTON</td>\n",
       "            <td>MINIATURE</td>\n",
       "        </tr>\n",
       "        <tr>\n",
       "            <td>COLUMBIA</td>\n",
       "            <td>MINIATURE</td>\n",
       "        </tr>\n",
       "        <tr>\n",
       "            <td>ATLANTA</td>\n",
       "            <td>MINIATURE</td>\n",
       "        </tr>\n",
       "        <tr>\n",
       "            <td>CHICAGO</td>\n",
       "            <td>MINIATURE</td>\n",
       "        </tr>\n",
       "        <tr>\n",
       "            <td>BALTIMORE</td>\n",
       "            <td>MINIATURE</td>\n",
       "        </tr>\n",
       "        <tr>\n",
       "            <td>CHICAGO</td>\n",
       "            <td>MIXED HEIRLOOM VARIETIES</td>\n",
       "        </tr>\n",
       "        <tr>\n",
       "            <td>DALLAS</td>\n",
       "            <td>MIXED HEIRLOOM VARIETIES</td>\n",
       "        </tr>\n",
       "        <tr>\n",
       "            <td>COLUMBIA</td>\n",
       "            <td>MIXED HEIRLOOM VARIETIES</td>\n",
       "        </tr>\n",
       "        <tr>\n",
       "            <td>NEW YORK</td>\n",
       "            <td>MIXED HEIRLOOM VARIETIES</td>\n",
       "        </tr>\n",
       "        <tr>\n",
       "            <td>BALTIMORE</td>\n",
       "            <td>MIXED HEIRLOOM VARIETIES</td>\n",
       "        </tr>\n",
       "        <tr>\n",
       "            <td>ST. LOUIS</td>\n",
       "            <td>MIXED HEIRLOOM VARIETIES</td>\n",
       "        </tr>\n",
       "        <tr>\n",
       "            <td>SAN FRANCISCO</td>\n",
       "            <td>MIXED HEIRLOOM VARIETIES</td>\n",
       "        </tr>\n",
       "        <tr>\n",
       "            <td>DETROIT</td>\n",
       "            <td>MIXED HEIRLOOM VARIETIES</td>\n",
       "        </tr>\n",
       "        <tr>\n",
       "            <td>LOS ANGELES</td>\n",
       "            <td>PIE TYPE</td>\n",
       "        </tr>\n",
       "        <tr>\n",
       "            <td>ST. LOUIS</td>\n",
       "            <td>PIE TYPE</td>\n",
       "        </tr>\n",
       "        <tr>\n",
       "            <td>DALLAS</td>\n",
       "            <td>PIE TYPE</td>\n",
       "        </tr>\n",
       "        <tr>\n",
       "            <td>COLUMBIA</td>\n",
       "            <td>PIE TYPE</td>\n",
       "        </tr>\n",
       "        <tr>\n",
       "            <td>MIAMI</td>\n",
       "            <td>PIE TYPE</td>\n",
       "        </tr>\n",
       "        <tr>\n",
       "            <td>SAN FRANCISCO</td>\n",
       "            <td>PIE TYPE</td>\n",
       "        </tr>\n",
       "        <tr>\n",
       "            <td>NEW YORK</td>\n",
       "            <td>PIE TYPE</td>\n",
       "        </tr>\n",
       "        <tr>\n",
       "            <td>BOSTON</td>\n",
       "            <td>PIE TYPE</td>\n",
       "        </tr>\n",
       "        <tr>\n",
       "            <td>BALTIMORE</td>\n",
       "            <td>PIE TYPE</td>\n",
       "        </tr>\n",
       "        <tr>\n",
       "            <td>PHILADELPHIA</td>\n",
       "            <td>PIE TYPE</td>\n",
       "        </tr>\n",
       "        <tr>\n",
       "            <td>CHICAGO</td>\n",
       "            <td>PIE TYPE</td>\n",
       "        </tr>\n",
       "        <tr>\n",
       "            <td>DETROIT</td>\n",
       "            <td>PIE TYPE</td>\n",
       "        </tr>\n",
       "        <tr>\n",
       "            <td>ATLANTA</td>\n",
       "            <td>PIE TYPE</td>\n",
       "        </tr>\n",
       "        <tr>\n",
       "            <td>DALLAS</td>\n",
       "            <td>None</td>\n",
       "        </tr>\n",
       "        <tr>\n",
       "            <td>BALTIMORE</td>\n",
       "            <td>None</td>\n",
       "        </tr>\n",
       "    </tbody>\n",
       "</table>"
      ],
      "text/plain": [
       "[('NEW YORK', 'BIG MACK TYPE'),\n",
       " ('SAN FRANCISCO', 'BIG MACK TYPE'),\n",
       " ('DALLAS', 'BIG MACK TYPE'),\n",
       " ('BALTIMORE', 'BIG MACK TYPE'),\n",
       " ('BOSTON', 'BIG MACK TYPE'),\n",
       " ('BOSTON', 'BLUE TYPE'),\n",
       " ('SAN FRANCISCO', 'BLUE TYPE'),\n",
       " ('COLUMBIA', 'BLUE TYPE'),\n",
       " ('DALLAS', 'CINDERELLA'),\n",
       " ('BOSTON', 'CINDERELLA'),\n",
       " ('BALTIMORE', 'CINDERELLA'),\n",
       " ('COLUMBIA', 'CINDERELLA'),\n",
       " ('SAN FRANCISCO', 'CINDERELLA'),\n",
       " ('COLUMBIA', 'FAIRYTALE'),\n",
       " ('CHICAGO', 'FAIRYTALE'),\n",
       " ('BOSTON', 'FAIRYTALE'),\n",
       " ('BALTIMORE', 'FAIRYTALE'),\n",
       " ('DALLAS', 'FAIRYTALE'),\n",
       " ('SAN FRANCISCO', 'FAIRYTALE'),\n",
       " ('LOS ANGELES', 'HOWDEN TYPE'),\n",
       " ('BOSTON', 'HOWDEN TYPE'),\n",
       " ('COLUMBIA', 'HOWDEN TYPE'),\n",
       " ('MIAMI', 'HOWDEN TYPE'),\n",
       " ('SAN FRANCISCO', 'HOWDEN TYPE'),\n",
       " ('DALLAS', 'HOWDEN TYPE'),\n",
       " ('CHICAGO', 'HOWDEN TYPE'),\n",
       " ('ATLANTA', 'HOWDEN TYPE'),\n",
       " ('NEW YORK', 'HOWDEN TYPE'),\n",
       " ('ST. LOUIS', 'HOWDEN TYPE'),\n",
       " ('BALTIMORE', 'HOWDEN TYPE'),\n",
       " ('PHILADELPHIA', 'HOWDEN TYPE'),\n",
       " ('DETROIT', 'HOWDEN TYPE'),\n",
       " ('DALLAS', 'HOWDEN WHITE TYPE'),\n",
       " ('BALTIMORE', 'HOWDEN WHITE TYPE'),\n",
       " ('ST. LOUIS', 'HOWDEN WHITE TYPE'),\n",
       " ('DETROIT', 'HOWDEN WHITE TYPE'),\n",
       " ('CHICAGO', 'HOWDEN WHITE TYPE'),\n",
       " ('COLUMBIA', 'HOWDEN WHITE TYPE'),\n",
       " ('NEW YORK', 'KNUCKLE HEAD'),\n",
       " ('BOSTON', 'KNUCKLE HEAD'),\n",
       " ('COLUMBIA', 'KNUCKLE HEAD'),\n",
       " ('PHILADELPHIA', 'KNUCKLE HEAD'),\n",
       " ('SAN FRANCISCO', 'MINIATURE'),\n",
       " ('ST. LOUIS', 'MINIATURE'),\n",
       " ('PHILADELPHIA', 'MINIATURE'),\n",
       " ('NEW YORK', 'MINIATURE'),\n",
       " ('LOS ANGELES', 'MINIATURE'),\n",
       " ('BOSTON', 'MINIATURE'),\n",
       " ('COLUMBIA', 'MINIATURE'),\n",
       " ('ATLANTA', 'MINIATURE'),\n",
       " ('CHICAGO', 'MINIATURE'),\n",
       " ('BALTIMORE', 'MINIATURE'),\n",
       " ('CHICAGO', 'MIXED HEIRLOOM VARIETIES'),\n",
       " ('DALLAS', 'MIXED HEIRLOOM VARIETIES'),\n",
       " ('COLUMBIA', 'MIXED HEIRLOOM VARIETIES'),\n",
       " ('NEW YORK', 'MIXED HEIRLOOM VARIETIES'),\n",
       " ('BALTIMORE', 'MIXED HEIRLOOM VARIETIES'),\n",
       " ('ST. LOUIS', 'MIXED HEIRLOOM VARIETIES'),\n",
       " ('SAN FRANCISCO', 'MIXED HEIRLOOM VARIETIES'),\n",
       " ('DETROIT', 'MIXED HEIRLOOM VARIETIES'),\n",
       " ('LOS ANGELES', 'PIE TYPE'),\n",
       " ('ST. LOUIS', 'PIE TYPE'),\n",
       " ('DALLAS', 'PIE TYPE'),\n",
       " ('COLUMBIA', 'PIE TYPE'),\n",
       " ('MIAMI', 'PIE TYPE'),\n",
       " ('SAN FRANCISCO', 'PIE TYPE'),\n",
       " ('NEW YORK', 'PIE TYPE'),\n",
       " ('BOSTON', 'PIE TYPE'),\n",
       " ('BALTIMORE', 'PIE TYPE'),\n",
       " ('PHILADELPHIA', 'PIE TYPE'),\n",
       " ('CHICAGO', 'PIE TYPE'),\n",
       " ('DETROIT', 'PIE TYPE'),\n",
       " ('ATLANTA', 'PIE TYPE'),\n",
       " ('DALLAS', None),\n",
       " ('BALTIMORE', None)]"
      ]
     },
     "execution_count": 24,
     "metadata": {},
     "output_type": "execute_result"
    }
   ],
   "source": [
    "%%sql\n",
    "\n",
    "SELECT \"City Name\", \"Variety\"\n",
    "FROM us_pumpkin_prices \n",
    "GROUP BY \"City Name\", \"Variety\"\n",
    "HAVING MIN(\"Low Price\") >= 5\n",
    "ORDER BY \"Variety\";"
   ]
  },
  {
   "cell_type": "markdown",
   "metadata": {},
   "source": [
    "### Exercise 2 "
   ]
  },
  {
   "cell_type": "markdown",
   "metadata": {},
   "source": [
    "Count the number of hits for each artist"
   ]
  },
  {
   "cell_type": "code",
   "execution_count": 32,
   "metadata": {},
   "outputs": [
    {
     "name": "stdout",
     "output_type": "stream",
     "text": [
      " * postgresql+psycopg://localhost:5432/intro_to_sql_for_analytics\n",
      "15 rows affected.\n"
     ]
    },
    {
     "data": {
      "text/html": [
       "<table>\n",
       "    <thead>\n",
       "        <tr>\n",
       "            <th>Artist</th>\n",
       "            <th>Hits</th>\n",
       "        </tr>\n",
       "    </thead>\n",
       "    <tbody>\n",
       "        <tr>\n",
       "            <td>Elvis Presley</td>\n",
       "            <td>36</td>\n",
       "        </tr>\n",
       "        <tr>\n",
       "            <td>Madonna</td>\n",
       "            <td>36</td>\n",
       "        </tr>\n",
       "        <tr>\n",
       "            <td>Rihanna</td>\n",
       "            <td>33</td>\n",
       "        </tr>\n",
       "        <tr>\n",
       "            <td>Mariah Carey</td>\n",
       "            <td>33</td>\n",
       "        </tr>\n",
       "        <tr>\n",
       "            <td>Ludacris</td>\n",
       "            <td>28</td>\n",
       "        </tr>\n",
       "        <tr>\n",
       "            <td>Elton John</td>\n",
       "            <td>28</td>\n",
       "        </tr>\n",
       "        <tr>\n",
       "            <td>Beatles</td>\n",
       "            <td>27</td>\n",
       "        </tr>\n",
       "        <tr>\n",
       "            <td>Michael Jackson</td>\n",
       "            <td>26</td>\n",
       "        </tr>\n",
       "        <tr>\n",
       "            <td>Lil Wayne</td>\n",
       "            <td>25</td>\n",
       "        </tr>\n",
       "        <tr>\n",
       "            <td>R. Kelly</td>\n",
       "            <td>25</td>\n",
       "        </tr>\n",
       "        <tr>\n",
       "            <td>Usher</td>\n",
       "            <td>25</td>\n",
       "        </tr>\n",
       "        <tr>\n",
       "            <td>Janet Jackson</td>\n",
       "            <td>23</td>\n",
       "        </tr>\n",
       "        <tr>\n",
       "            <td>Stevie Wonder</td>\n",
       "            <td>23</td>\n",
       "        </tr>\n",
       "        <tr>\n",
       "            <td>T-Pain</td>\n",
       "            <td>23</td>\n",
       "        </tr>\n",
       "        <tr>\n",
       "            <td>Kanye West</td>\n",
       "            <td>22</td>\n",
       "        </tr>\n",
       "    </tbody>\n",
       "</table>"
      ],
      "text/plain": [
       "[('Elvis Presley', 36),\n",
       " ('Madonna', 36),\n",
       " ('Rihanna', 33),\n",
       " ('Mariah Carey', 33),\n",
       " ('Ludacris', 28),\n",
       " ('Elton John', 28),\n",
       " ('Beatles', 27),\n",
       " ('Michael Jackson', 26),\n",
       " ('Lil Wayne', 25),\n",
       " ('R. Kelly', 25),\n",
       " ('Usher', 25),\n",
       " ('Janet Jackson', 23),\n",
       " ('Stevie Wonder', 23),\n",
       " ('T-Pain', 23),\n",
       " ('Kanye West', 22)]"
      ]
     },
     "execution_count": 32,
     "metadata": {},
     "output_type": "execute_result"
    }
   ],
   "source": [
    "%%sql\n",
    "\n",
    "SELECT artist AS \"Artist\", COUNT(*) AS \"Hits\"\n",
    "FROM billboard_top_100_year_end\n",
    "GROUP BY artist\n",
    "ORDER BY \"Hits\" DESC\n",
    "LIMIT 15;"
   ]
  },
  {
   "cell_type": "code",
   "execution_count": null,
   "metadata": {},
   "outputs": [],
   "source": []
  }
 ],
 "metadata": {
  "kernelspec": {
   "display_name": "sql-for-data-venv",
   "language": "python",
   "name": "python3"
  },
  "language_info": {
   "codemirror_mode": {
    "name": "ipython",
    "version": 3
   },
   "file_extension": ".py",
   "mimetype": "text/x-python",
   "name": "python",
   "nbconvert_exporter": "python",
   "pygments_lexer": "ipython3",
   "version": "3.11.4"
  }
 },
 "nbformat": 4,
 "nbformat_minor": 2
}
